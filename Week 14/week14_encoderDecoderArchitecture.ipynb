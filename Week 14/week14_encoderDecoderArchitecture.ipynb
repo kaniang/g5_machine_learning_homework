{
  "nbformat": 4,
  "nbformat_minor": 0,
  "metadata": {
    "colab": {
      "name": "week14_encoderDecoderArchitecture.ipynb",
      "provenance": [],
      "collapsed_sections": []
    },
    "kernelspec": {
      "name": "python3",
      "display_name": "Python 3"
    },
    "language_info": {
      "name": "python"
    }
  },
  "cells": [
    {
      "cell_type": "markdown",
      "source": [
        "## encoder"
      ],
      "metadata": {
        "id": "zaLZ05sBxq1i"
      }
    },
    {
      "cell_type": "code",
      "execution_count": 1,
      "metadata": {
        "id": "iEfwT_o2xTYF"
      },
      "outputs": [],
      "source": [
        "import tensorflow as tf\n",
        "\n",
        "\n",
        "class Encoder(tf.keras.layers.Layer):\n",
        "    \"\"\"The base encoder interface for the encoder-decoder architecture.\"\"\"\n",
        "    def __init__(self, **kwargs):\n",
        "        super(Encoder, self).__init__(**kwargs)\n",
        "\n",
        "    def call(self, X, *args, **kwargs):\n",
        "        raise NotImplementedError"
      ]
    },
    {
      "cell_type": "markdown",
      "source": [
        "## decoder"
      ],
      "metadata": {
        "id": "c-NKdSp9xwys"
      }
    },
    {
      "cell_type": "code",
      "source": [
        "\n",
        "class Decoder(tf.keras.layers.Layer):\n",
        "    \"\"\"The base decoder interface for the encoder-decoder architecture.\"\"\"\n",
        "    def __init__(self, **kwargs):\n",
        "        super(Decoder, self).__init__(**kwargs)\n",
        "\n",
        "    def init_state(self, enc_outputs, *args):\n",
        "        raise NotImplementedError\n",
        "\n",
        "    def call(self, X, state, **kwargs):\n",
        "        raise NotImplementedError"
      ],
      "metadata": {
        "id": "d76nqTEExmlv"
      },
      "execution_count": 2,
      "outputs": []
    },
    {
      "cell_type": "markdown",
      "source": [
        "## both encoder decoder"
      ],
      "metadata": {
        "id": "KKo26hQex1Qt"
      }
    },
    {
      "cell_type": "code",
      "source": [
        "\n",
        "class EncoderDecoder(tf.keras.Model):\n",
        "    \"\"\"The base class for the encoder-decoder architecture.\"\"\"\n",
        "    def __init__(self, encoder, decoder, **kwargs):\n",
        "        super(EncoderDecoder, self).__init__(**kwargs)\n",
        "        self.encoder = encoder\n",
        "        self.decoder = decoder\n",
        "\n",
        "    def call(self, enc_X, dec_X, *args, **kwargs):\n",
        "        enc_outputs = self.encoder(enc_X, *args, **kwargs)\n",
        "        dec_state = self.decoder.init_state(enc_outputs, *args)\n",
        "        return self.decoder(dec_X, dec_state, **kwargs)"
      ],
      "metadata": {
        "id": "2v2Fx0Gcxmt8"
      },
      "execution_count": 3,
      "outputs": []
    }
  ]
}